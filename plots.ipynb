{
 "cells": [
  {
   "cell_type": "code",
   "execution_count": null,
   "id": "6677db7b-8336-4c2e-b80b-44a687700c83",
   "metadata": {},
   "outputs": [],
   "source": [
    "# import libraries\n",
    "import os, sys\n",
    "import numpy as np\n",
    "import pandas as pd\n",
    "import folium as fl\n",
    "import seaborn as sns\n",
    "import warnings as wn\n",
    "\n",
    "import matplotlib.pyplot as plt\n",
    "\n",
    "# ignore warnings from deprecated functions\n",
    "wn.filterwarnings(\"ignore\")\n",
    "\n",
    "# enable showing the full timestamp (without scientific notation)\n",
    "pd.set_option(\"display.precision\", 12)"
   ]
  },
  {
   "cell_type": "code",
   "execution_count": null,
   "id": "a9beff33-1790-4e4c-b0e1-e1aee4573b3e",
   "metadata": {},
   "outputs": [],
   "source": [
    "# check the kind of system\n",
    "def is_platform_windows():\n",
    "    \"\"\"\n",
    "    The function returns True if the program runs over Windows, False otherwise\n",
    "    ........................................................................\n",
    "\n",
    "    Parameters\n",
    "    ----------\n",
    "    None\n",
    "    \"\"\"\n",
    "    return sys.platform == \"win32\""
   ]
  },
  {
   "cell_type": "markdown",
   "id": "6e6c6c98-c0b2-40b2-8cef-921abeed434b",
   "metadata": {},
   "source": [
    "<h2>Tasks</h2>"
   ]
  },
  {
   "cell_type": "code",
   "execution_count": null,
   "id": "96a2f935-c9e7-440b-b8b3-f5b57ed88d74",
   "metadata": {},
   "outputs": [],
   "source": [
    "# change the datapath with one of your\n",
    "FILEPATH = \"saved\\\\Pamplona_500_50_5_MCS\\\\Outputs\""
   ]
  },
  {
   "cell_type": "code",
   "execution_count": null,
   "id": "3bd8f7e3-69a8-4534-9d07-bdddaf2e4c7a",
   "metadata": {},
   "outputs": [],
   "source": [
    "df = pd.read_csv(FILEPATH + \"\\\\\" + os.listdir(FILEPATH)[0], delim_whitespace=True)"
   ]
  },
  {
   "cell_type": "code",
   "execution_count": null,
   "id": "2dd0b295-83cb-4d48-a38e-b01bd4871d9d",
   "metadata": {},
   "outputs": [],
   "source": [
    "# the code cell produces a barplot showing the number of candidates per task\n",
    "sns.set(rc={'figure.figsize':(16.7,11.27)})\n",
    "sns.set_theme(style='whitegrid')\n",
    "sns.barplot(data=df, x=\"task_id\", y=\"candidates\", color=\"#FFA62F\").set_title(\"Task Assignment\", fontsize=26, weight='bold')\n",
    "plt.ylabel('Number of Candidates', fontsize=18, weight='bold')\n",
    "plt.xlabel('Task ID', fontsize=18, weight='bold')\n",
    "plt.savefig(\"Users_for_task_barplot.jpg\", format='jpg', dpi = 800, bbox_inches='tight')"
   ]
  },
  {
   "cell_type": "markdown",
   "id": "4703a852-f4b5-4be7-a711-819ae3923bb3",
   "metadata": {},
   "source": [
    "<h2>Paths</h2>"
   ]
  },
  {
   "cell_type": "code",
   "execution_count": null,
   "id": "2082f0b9-d018-41c3-a6df-e959a44366cf",
   "metadata": {},
   "outputs": [],
   "source": [
   "# change the datapath with one of your\n",
    "FILEPATH = \"saved\\\\Pamplona_500_50_5_MCS\\\\Users\""
   ]
  },
  {
   "cell_type": "code",
   "execution_count": null,
   "id": "d9f5c862-8a69-47c4-ae92-8135d03ec99e",
   "metadata": {},
   "outputs": [],
   "source": [
    "df = pd.read_csv(FILEPATH + \"\\\\\" + os.listdir(FILEPATH)[0], delim_whitespace=True)"
   ]
  },
  {
   "cell_type": "code",
   "execution_count": null,
   "id": "2009c4a8-cd84-45f9-952e-d65fad52f33b",
   "metadata": {},
   "outputs": [],
   "source": [
    "loc = df[df.user_id==8].filter([\"lat\", \"lon\"]).values.tolist()"
   ]
  },
  {
   "cell_type": "code",
   "execution_count": null,
   "id": "5dbacc56-ca57-4504-ad87-45e561777330",
   "metadata": {},
   "outputs": [],
   "source": [
    "m = fl.Map(location=(df.filter([\"lat\",\"lon\"]).loc[0]), zoom_start = 14)\n",
    "fl.PolyLine(loc, color='red', weight=4, opacity=0.8).add_to(m)\n",
    "fl.Marker(location=[loc[0][0], loc[0][1]],popup=\"start\").add_to(m)\n",
    "fl.Marker(location=[loc[len(loc)-1][0], loc[len(loc)-1][1]],popup=\"stop\").add_to(m)\n",
    "# Show the map\n",
    "m"
   ]
  },
  {
   "cell_type": "code",
   "execution_count": null,
   "id": "55e27bfa-7e07-4d09-9f15-3c0d7e57e97c",
   "metadata": {},
   "outputs": [],
   "source": [
   "# Save the map\n",
    "m.save(\"Pamplona\" + '.jpg')"
   ]
  },
  {
   "cell_type": "code",
   "execution_count": null,
   "id": "68082b3f-204c-47bd-bc70-4f7816170372",
   "metadata": {},
   "outputs": [],
   "source": [
    "# move all the jpgs into the image folder\n",
    "if(is_platform_windows()):\n",
    "    # create a directory where to store the output\n",
    "    os.makedirs(\"images\\\\\", exist_ok=True)\n",
    "    os.system(\"move *.jpg images\\\\\")\n",
    "else:\n",
    "    # create a directory where to store the output\n",
    "    os.makedirs(\"images/\", exist_ok=True)\n",
    "    os.system(\"mv *.jpg images/\")"
   ]
  },
  {
   "cell_type": "code",
   "execution_count": null,
   "id": "04378f99-62f7-486e-ac2c-3234cc28f777",
   "metadata": {},
   "outputs": [],
   "source": []
  }
 ],
 "metadata": {
  "kernelspec": {
   "display_name": "Python 3 (ipykernel)",
   "language": "python",
   "name": "python3"
  },
  "language_info": {
   "codemirror_mode": {
    "name": "ipython",
    "version": 3
   },
   "file_extension": ".py",
   "mimetype": "text/x-python",
   "name": "python",
   "nbconvert_exporter": "python",
   "pygments_lexer": "ipython3",
   "version": "3.12.4"
  }
 },
 "nbformat": 4,
 "nbformat_minor": 5
}
